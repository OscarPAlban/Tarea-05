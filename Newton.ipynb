{
 "cells": [
  {
   "cell_type": "code",
   "execution_count": 4,
   "metadata": {},
   "outputs": [
    {
     "name": "stdout",
     "output_type": "stream",
     "text": [
      "Solución usando el método de Newton: -0.8654740331016162\n"
     ]
    }
   ],
   "source": [
    "import sympy as sp\n",
    "\n",
    "def newton_method(f, df, p0, tol, max_iter):\n",
    "    p = p0\n",
    "    for _ in range(max_iter):\n",
    "        p_next = p - f(p)/df(p)\n",
    "        if abs(p_next - p) < tol:\n",
    "            return p_next\n",
    "        p = p_next\n",
    "    raise ValueError(\"El método de Newton no convergió.\")\n",
    "\n",
    "# Definimos las funciones y sus derivadas\n",
    "x = sp.symbols('x')\n",
    "\n",
    "# Ejemplo para f(x) = -x^3 - cos(x)\n",
    "f1 = -x**3 - sp.cos(x)\n",
    "df1 = sp.diff(f1, x)\n",
    "\n",
    "# Convertimos a funciones de Python\n",
    "f1_func = sp.lambdify(x, f1)\n",
    "df1_func = sp.lambdify(x, df1)\n",
    "\n",
    "# Parámetros iniciales\n",
    "p0 = -1\n",
    "tol = 1e-4\n",
    "max_iter = 100\n",
    "\n",
    "# Aplicamos el método\n",
    "p_newton = newton_method(f1_func, df1_func, p0, tol, max_iter)\n",
    "print(f\"Solución usando el método de Newton: {p_newton}\")\n"
   ]
  },
  {
   "cell_type": "code",
   "execution_count": 5,
   "metadata": {},
   "outputs": [
    {
     "name": "stdout",
     "output_type": "stream",
     "text": [
      "Solución usando el método de la secante: -0.8654740143806452\n"
     ]
    }
   ],
   "source": [
    "def secant_method(f, p0, p1, tol, max_iter):\n",
    "    for _ in range(max_iter):\n",
    "        q0 = f(p0)\n",
    "        q1 = f(p1)\n",
    "        if q1 - q0 == 0:\n",
    "            raise ValueError(\"División por cero en el método de la secante.\")\n",
    "        p_next = p1 - q1 * (p1 - p0) / (q1 - q0)\n",
    "        if abs(p_next - p1) < tol:\n",
    "            return p_next\n",
    "        p0, p1 = p1, p_next\n",
    "    raise ValueError(\"El método de la secante no convergió.\")\n",
    "\n",
    "# Parámetros iniciales para el método de la secante\n",
    "p0_secant = -1\n",
    "p1_secant = 0  # Se puede probar también con p1 = -0.5 o cualquier otro valor cercano\n",
    "\n",
    "# Aplicamos el método\n",
    "p_secant = secant_method(f1_func, p0_secant, p1_secant, tol, max_iter)\n",
    "print(f\"Solución usando el método de la secante: {p_secant}\")\n"
   ]
  },
  {
   "cell_type": "code",
   "execution_count": 6,
   "metadata": {},
   "outputs": [
    {
     "name": "stdout",
     "output_type": "stream",
     "text": [
      "Solución para 2(a) usando el método de Newton: 2.6906474480286287\n",
      "Solución para 2(a) usando el método de la secante: 2.690647447883773\n"
     ]
    }
   ],
   "source": [
    "# Ejercicio 2(a) f(x) = x^3 - 2x^2 - 5\n",
    "f2a = x**3 - 2*x**2 - 5\n",
    "df2a = sp.diff(f2a, x)\n",
    "\n",
    "# Convertimos a funciones de Python\n",
    "f2a_func = sp.lambdify(x, f2a)\n",
    "df2a_func = sp.lambdify(x, df2a)\n",
    "\n",
    "# Parámetros iniciales\n",
    "p0_2a = 1\n",
    "tol = 1e-4\n",
    "max_iter = 100\n",
    "\n",
    "# Aplicamos el método de Newton\n",
    "p_newton_2a = newton_method(f2a_func, df2a_func, p0_2a, tol, max_iter)\n",
    "print(f\"Solución para 2(a) usando el método de Newton: {p_newton_2a}\")\n",
    "\n",
    "# Parámetros iniciales para el método de la secante\n",
    "p0_secant_2a = 1\n",
    "p1_secant_2a = 4  # Usamos los extremos dados en el intervalo [1, 4]\n",
    "\n",
    "# Aplicamos el método de la secante\n",
    "p_secant_2a = secant_method(f2a_func, p0_secant_2a, p1_secant_2a, tol, max_iter)\n",
    "print(f\"Solución para 2(a) usando el método de la secante: {p_secant_2a}\")\n"
   ]
  }
 ],
 "metadata": {
  "kernelspec": {
   "display_name": "Python 3",
   "language": "python",
   "name": "python3"
  },
  "language_info": {
   "codemirror_mode": {
    "name": "ipython",
    "version": 3
   },
   "file_extension": ".py",
   "mimetype": "text/x-python",
   "name": "python",
   "nbconvert_exporter": "python",
   "pygments_lexer": "ipython3",
   "version": "3.11.9"
  }
 },
 "nbformat": 4,
 "nbformat_minor": 2
}
